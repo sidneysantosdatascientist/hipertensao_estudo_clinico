{
  "nbformat": 4,
  "nbformat_minor": 0,
  "metadata": {
    "colab": {
      "provenance": []
    },
    "kernelspec": {
      "name": "python3",
      "display_name": "Python 3"
    },
    "language_info": {
      "name": "python"
    }
  },
  "cells": [
    {
      "cell_type": "code",
      "execution_count": 7,
      "metadata": {
        "colab": {
          "base_uri": "https://localhost:8080/"
        },
        "id": "MGKLqqhPljo-",
        "outputId": "77fba712-c8cc-478b-9357-e8b0fff1a20f"
      },
      "outputs": [
        {
          "output_type": "stream",
          "name": "stdout",
          "text": [
            "\n",
            "Relatório de Classificação:\n",
            "              precision    recall  f1-score   support\n",
            "\n",
            "         0.0       1.00      1.00      1.00         2\n",
            "         1.0       1.00      1.00      1.00         1\n",
            "\n",
            "    accuracy                           1.00         3\n",
            "   macro avg       1.00      1.00      1.00         3\n",
            "weighted avg       1.00      1.00      1.00         3\n",
            "\n",
            "\n",
            "Acurácia: 100.00%\n",
            "\n",
            "Exemplo - Risco de complicação: 68.0%\n",
            "\n",
            "Importância das características:\n",
            "idade: 16.34%\n",
            "imc: 26.14%\n",
            "pressao_sistolica: 31.83%\n",
            "pressao_diastolica: 10.99%\n",
            "frequencia_cardiaca: 14.71%\n"
          ]
        },
        {
          "output_type": "stream",
          "name": "stderr",
          "text": [
            "/usr/local/lib/python3.11/dist-packages/sklearn/utils/validation.py:2739: UserWarning: X does not have valid feature names, but StandardScaler was fitted with feature names\n",
            "  warnings.warn(\n"
          ]
        }
      ],
      "source": [
        "import pandas as pd\n",
        "from sklearn.ensemble import RandomForestClassifier\n",
        "from sklearn.model_selection import train_test_split\n",
        "from sklearn.metrics import classification_report, accuracy_score\n",
        "from sklearn.preprocessing import StandardScaler\n",
        "import joblib\n",
        "\n",
        "# Carregar dados processados\n",
        "df = pd.read_csv('dados_hipertensao_processados.csv')\n",
        "\n",
        "# 1. Preparar dados para modelo\n",
        "features = ['idade', 'imc', 'pressao_sistolica', 'pressao_diastolica', 'frequencia_cardiaca']\n",
        "X = df[features]\n",
        "y = df['complicacao']\n",
        "\n",
        "# 2. Tratar valores missing\n",
        "X = X.fillna(X.mean())\n",
        "\n",
        "# 3. Normalizar dados\n",
        "scaler = StandardScaler()\n",
        "X_scaled = scaler.fit_transform(X)\n",
        "\n",
        "# 4. Dividir dados - usando stratify para manter proporção de classes\n",
        "X_train, X_test, y_train, y_test = train_test_split(\n",
        "    X_scaled, y,\n",
        "    test_size=0.3,\n",
        "    random_state=42,\n",
        "    stratify=y  # importante para conjuntos pequenos\n",
        ")\n",
        "\n",
        "# 5. Treinar modelo\n",
        "model = RandomForestClassifier(\n",
        "    n_estimators=100,\n",
        "    random_state=42,\n",
        "    class_weight='balanced'  # ajuda com conjuntos desbalanceados\n",
        ")\n",
        "model.fit(X_train, y_train)\n",
        "\n",
        "# 6. Avaliar modelo\n",
        "y_pred = model.predict(X_test)\n",
        "print(\"\\nRelatório de Classificação:\")\n",
        "print(classification_report(y_test, y_pred))\n",
        "print(f\"\\nAcurácia: {accuracy_score(y_test, y_pred):.2%}\")\n",
        "\n",
        "# 7. Salvar modelo e scaler\n",
        "joblib.dump(model, 'modelo_risco_hipertensao.pkl')\n",
        "joblib.dump(scaler, 'scaler.pkl')\n",
        "\n",
        "# 8. Função para fazer previsões\n",
        "def prever_risco(paciente):\n",
        "    \"\"\"\n",
        "    paciente: lista com [idade, imc, pressao_sistolica, pressao_diastolica, frequencia_cardiaca]\n",
        "    Retorna a probabilidade de complicação (0-1)\n",
        "    \"\"\"\n",
        "    if len(paciente) != 5:\n",
        "        raise ValueError(\"O paciente deve ter exatamente 5 características\")\n",
        "\n",
        "    paciente_scaled = scaler.transform([paciente])\n",
        "    proba = model.predict_proba(paciente_scaled)[0][1]\n",
        "    return proba\n",
        "\n",
        "# 9. Exemplo de uso CORRETO (apenas 5 features)\n",
        "paciente_exemplo = [50, 28, 145, 92, 85]  # idade, imc, sistólica, diastólica, FC\n",
        "try:\n",
        "    risco = prever_risco(paciente_exemplo)\n",
        "    print(f\"\\nExemplo - Risco de complicação: {risco:.1%}\")\n",
        "except ValueError as e:\n",
        "    print(f\"Erro: {e}\")\n",
        "\n",
        "# 10. Análise de importância das features\n",
        "print(\"\\nImportância das características:\")\n",
        "for feature, importance in zip(features, model.feature_importances_):\n",
        "    print(f\"{feature}: {importance:.2%}\")"
      ]
    }
  ]
}