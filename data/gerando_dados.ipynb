{
  "nbformat": 4,
  "nbformat_minor": 0,
  "metadata": {
    "colab": {
      "provenance": []
    },
    "kernelspec": {
      "name": "python3",
      "display_name": "Python 3"
    },
    "language_info": {
      "name": "python"
    }
  },
  "cells": [
    {
      "cell_type": "code",
      "source": [
        "!pip install faker"
      ],
      "metadata": {
        "colab": {
          "base_uri": "https://localhost:8080/"
        },
        "id": "w1om96f3VCZf",
        "outputId": "64d6a977-7a65-4198-82dd-f4753f327aa3"
      },
      "execution_count": null,
      "outputs": [
        {
          "output_type": "stream",
          "name": "stdout",
          "text": [
            "Collecting faker\n",
            "  Downloading faker-37.3.0-py3-none-any.whl.metadata (15 kB)\n",
            "Requirement already satisfied: tzdata in /usr/local/lib/python3.11/dist-packages (from faker) (2025.2)\n",
            "Downloading faker-37.3.0-py3-none-any.whl (1.9 MB)\n",
            "\u001b[?25l   \u001b[90m━━━━━━━━━━━━━━━━━━━━━━━━━━━━━━━━━━━━━━━━\u001b[0m \u001b[32m0.0/1.9 MB\u001b[0m \u001b[31m?\u001b[0m eta \u001b[36m-:--:--\u001b[0m\r\u001b[2K   \u001b[91m━━━━━━━━━━━━━━━━━━━━━━━━━\u001b[0m\u001b[90m╺\u001b[0m\u001b[90m━━━━━━━━━━━━━━\u001b[0m \u001b[32m1.2/1.9 MB\u001b[0m \u001b[31m35.9 MB/s\u001b[0m eta \u001b[36m0:00:01\u001b[0m\r\u001b[2K   \u001b[90m━━━━━━━━━━━━━━━━━━━━━━━━━━━━━━━━━━━━━━━━\u001b[0m \u001b[32m1.9/1.9 MB\u001b[0m \u001b[31m31.2 MB/s\u001b[0m eta \u001b[36m0:00:00\u001b[0m\n",
            "\u001b[?25hInstalling collected packages: faker\n",
            "Successfully installed faker-37.3.0\n"
          ]
        }
      ]
    },
    {
      "cell_type": "code",
      "execution_count": null,
      "metadata": {
        "id": "vy9jaI57EcTp"
      },
      "outputs": [],
      "source": [
        "import pandas as pd\n",
        "import numpy as np\n",
        "from faker import Faker\n",
        "\n",
        "fake = Faker('pt_BR')\n",
        "\n",
        "# Gerar dados simulados\n",
        "n_pacientes = 30\n",
        "dados = []\n",
        "\n",
        "for _ in range(n_pacientes):\n",
        "    idade = np.random.randint(30, 80)\n",
        "    sexo = np.random.choice(['Masculino', 'Feminino'])\n",
        "    imc = round(np.random.uniform(20, 40), 1)\n",
        "    sistolica = np.random.randint(110, 200)\n",
        "    diastolica = np.random.randint(70, 120)\n",
        "\n",
        "    # Simular efeito da idade e IMC na pressão\n",
        "    sistolica = min(200, int(sistolica + (idade-50)/10 + (imc-25)/2))\n",
        "    diastolica = min(120, int(diastolica + (idade-50)/20 + (imc-25)/3))\n",
        "\n",
        "    # Determinar complicações com base em pressão e idade\n",
        "    risco = (sistolica - 140)/20 + (diastolica - 90)/10 + (idade - 60)/20\n",
        "    complicacao = 'Sim' if np.random.rand() < 1/(1+np.exp(-risco)) else 'Não'\n",
        "\n",
        "    dados.append({\n",
        "        'patient_id': fake.unique.random_number(digits=5),\n",
        "        'idade': idade,\n",
        "        'sexo': sexo,\n",
        "        'imc': imc,\n",
        "        'pressao_sistolica': sistolica,\n",
        "        'pressao_diastolica': diastolica,\n",
        "        'frequencia_cardiaca': np.random.randint(60, 100),\n",
        "        'medicacao': np.random.choice(['Diurético', 'Beta-bloqueador', 'IECA', 'ARA II', 'Cálcio antagonista'],\n",
        "                                     np.random.randint(0, 3), replace=False),\n",
        "        'complicacao': complicacao,\n",
        "        'tipo_complicacao': fake.word(ext_word_list=['AVC', 'Infarto', 'Insuficiência Cardíaca', 'Nenhuma'])\n",
        "                           if complicacao == 'Sim' else 'Nenhuma'\n",
        "    })\n",
        "\n",
        "df = pd.DataFrame(dados)\n",
        "df.to_csv('dados_hipertensao.csv', index=False)"
      ]
    }
  ]
}