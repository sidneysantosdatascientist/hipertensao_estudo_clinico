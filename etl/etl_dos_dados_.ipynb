{
  "nbformat": 4,
  "nbformat_minor": 0,
  "metadata": {
    "colab": {
      "provenance": []
    },
    "kernelspec": {
      "name": "python3",
      "display_name": "Python 3"
    },
    "language_info": {
      "name": "python"
    }
  },
  "cells": [
    {
      "cell_type": "code",
      "execution_count": null,
      "metadata": {
        "id": "S9wVlvSlaOYC"
      },
      "outputs": [],
      "source": [
        "import pandas as pd\n",
        "import numpy as np\n",
        "\n",
        "# Carregar dados\n",
        "df = pd.read_csv('EstudoHipertenso.csv')\n",
        "\n",
        "# Limpeza de dados\n",
        "df = df[df['formulario_hipertensao_complete'] == 2]  # Remover registros incompletos\n",
        "df['imc'] = df['imc'].replace('', np.nan).astype(float)\n",
        "df['sexo'] = df['sexo'].map({1: 'Masculino', 2: 'Feminino'})\n",
        "\n",
        "# Calcular pressão arterial média\n",
        "df['pressao_media'] = (df['pressao_sistolica'] + 2*df['pressao_diastolica'])/3\n",
        "\n",
        "# Classificar hipertensão\n",
        "df['classificacao_hipertensao'] = np.where(\n",
        "    (df['pressao_sistolica'] >= 140) | (df['pressao_diastolica'] >= 90),\n",
        "    'Hipertenso', 'Normotenso'\n",
        ")\n",
        "\n",
        "# Salvar dados processados\n",
        "df.to_csv('dados_hipertensao_processados.csv', index=False)"
      ]
    }
  ]
}